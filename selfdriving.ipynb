{
  "nbformat": 4,
  "nbformat_minor": 0,
  "metadata": {
    "colab": {
      "name": "selfdriving",
      "provenance": [],
      "collapsed_sections": [],
      "include_colab_link": true
    },
    "kernelspec": {
      "name": "python3",
      "display_name": "Python 3"
    },
    "accelerator": "GPU"
  },
  "cells": [
    {
      "cell_type": "markdown",
      "metadata": {
        "id": "view-in-github",
        "colab_type": "text"
      },
      "source": [
        "<a href=\"https://colab.research.google.com/github/naman-mehta/predict_steering_angle/blob/master/selfdriving.ipynb\" target=\"_parent\"><img src=\"https://colab.research.google.com/assets/colab-badge.svg\" alt=\"Open In Colab\"/></a>"
      ]
    },
    {
      "cell_type": "markdown",
      "metadata": {
        "id": "cS2nu_OE6zs-"
      },
      "source": [
        "##The model is based on https://arxiv.org/pdf/1604.07316.pdf\n",
        "End to End Learning for Self-Driving Cars by Nvidia"
      ]
    },
    {
      "cell_type": "markdown",
      "metadata": {
        "id": "CWuHIXjF7vt8"
      },
      "source": [
        "Let's import Tensorflow 2."
      ]
    },
    {
      "cell_type": "code",
      "metadata": {
        "id": "LZ3zk712pHEg"
      },
      "source": [
        "# Install TensorFlow\n",
        "try:\n",
        "  # %tensorflow_version only exists in Colab.\n",
        "  %tensorflow_version 2.x\n",
        "except Exception:\n",
        "  pass\n",
        "\n",
        "import tensorflow as tf\n",
        "import pathlib\n",
        "import matplotlib.pyplot as plt\n",
        "from pandas import DataFrame\n",
        "import os\n",
        "\n",
        "from tensorflow import keras\n",
        "\n",
        "\n"
      ],
      "execution_count": 1,
      "outputs": []
    },
    {
      "cell_type": "markdown",
      "metadata": {
        "id": "sqlr-8ER_Kr4"
      },
      "source": [
        "The **SullyChen's auto pilot dataset** is public and can be downloaded from this [link](https://drive.google.com/file/d/1PZWa6H0i1PCH9zuYcIh5Ouk_p-9Gh58B/view). The link is a Google drive link containing datasets of images recorded from a car dashcam with labeled steering angles.\n",
        "There is data folder having images and a data.txt file with Data format is as follows: filename.jpg angle,year-mm-dd hr:min:sec:millisec."
      ]
    },
    {
      "cell_type": "markdown",
      "metadata": {
        "id": "KMrLCi9Bqllm"
      },
      "source": [
        "Here I have shared it with myself by clicking on Organize in more actions. I Mount my Google Drive locally. Then I copy the zipped dataset here which takes around two minutes. "
      ]
    },
    {
      "cell_type": "code",
      "metadata": {
        "id": "p1TypRq94ncm",
        "outputId": "b44d3b3a-5fa8-454c-b15b-b3792e783193",
        "colab": {
          "base_uri": "https://localhost:8080/"
        }
      },
      "source": [
        "from google.colab import drive\n",
        "drive.mount('/content/drive')\n",
        "!cp /content/drive/My\\ Drive/07012018.zip /content/dataset.zip"
      ],
      "execution_count": 2,
      "outputs": [
        {
          "output_type": "stream",
          "text": [
            "Mounted at /content/drive\n"
          ],
          "name": "stdout"
        }
      ]
    },
    {
      "cell_type": "markdown",
      "metadata": {
        "id": "lGJTV_iT8s14"
      },
      "source": [
        "Now let's unzip the datset."
      ]
    },
    {
      "cell_type": "code",
      "metadata": {
        "id": "UQb7dVi42EGU"
      },
      "source": [
        "import zipfile\n",
        "zip_ref = zipfile.ZipFile(\"/content/dataset.zip\", 'r')\n",
        "zip_ref.extractall(\"/content/dataset\")\n",
        "zip_ref.close()"
      ],
      "execution_count": 3,
      "outputs": []
    },
    {
      "cell_type": "markdown",
      "metadata": {
        "id": "bZ9fn9o8-aTW"
      },
      "source": [
        "Just checking the number of images."
      ]
    },
    {
      "cell_type": "code",
      "metadata": {
        "id": "Ppna45FC3VHz",
        "outputId": "e0d73c7e-42bf-46b1-aa4a-5754c13f3adf",
        "colab": {
          "base_uri": "https://localhost:8080/"
        }
      },
      "source": [
        "%cd /content/dataset/data\n",
        "!ls -1 | wc -l\n"
      ],
      "execution_count": 2,
      "outputs": [
        {
          "output_type": "stream",
          "text": [
            "/content/dataset/data\n",
            "63825\n"
          ],
          "name": "stdout"
        }
      ]
    },
    {
      "cell_type": "markdown",
      "metadata": {
        "id": "X5z4ebmQ_EP8"
      },
      "source": [
        "Here contents are the number of rows in or labels in data.txt file. So there are no missing labels."
      ]
    },
    {
      "cell_type": "code",
      "metadata": {
        "id": "-3RcW0Z_Vmvp",
        "outputId": "87306785-bfec-42a4-d2ec-2763bf4bd785",
        "colab": {
          "base_uri": "https://localhost:8080/"
        }
      },
      "source": [
        "data_dir=\"/content/dataset/\"\n",
        "with open( data_dir+'data.txt', 'r') as f:\n",
        "  contents=f.read()\n",
        "  \n",
        "contents= list(contents.split('\\n'))  \n",
        "del contents[-1]\n",
        "print(\"Total size of dataset {:,} images\".format(len(contents)))\n",
        "\n",
        "TOTAL_SIZE_DATASET=len(contents)\n"
      ],
      "execution_count": 3,
      "outputs": [
        {
          "output_type": "stream",
          "text": [
            "Total size of dataset 63,825 images\n"
          ],
          "name": "stdout"
        }
      ]
    },
    {
      "cell_type": "markdown",
      "metadata": {
        "id": "S7J6woNaK2nv"
      },
      "source": [
        "To construct a TF Dataset from data in memory, we can use tf.data.Dataset.from_tensor_slices()"
      ]
    },
    {
      "cell_type": "code",
      "metadata": {
        "id": "FNpJ-67UpaVy",
        "outputId": "267320ab-1a40-40e5-e565-f773af218a41",
        "colab": {
          "base_uri": "https://localhost:8080/"
        }
      },
      "source": [
        "dataset = tf.data.Dataset.from_tensor_slices(contents)\n",
        "print(dataset.element_spec)\n"
      ],
      "execution_count": 4,
      "outputs": [
        {
          "output_type": "stream",
          "text": [
            "TensorSpec(shape=(), dtype=tf.string, name=None)\n"
          ],
          "name": "stdout"
        }
      ]
    },
    {
      "cell_type": "markdown",
      "metadata": {
        "id": "PWWILUOWLUqJ"
      },
      "source": [
        "The Dataset.map(f) transformation produces a new dataset by applying a given function f to each element of the input dataset. Multiple images are loaded/processed in parallel.\n",
        "For performance reasons, use TensorFlow operations for preprocessing your data whenever possible. \n"
      ]
    },
    {
      "cell_type": "markdown",
      "metadata": {
        "id": "3wf_0yi89ogc"
      },
      "source": [
        "A short function that converts a file path to an (img, label) pair:"
      ]
    },
    {
      "cell_type": "code",
      "metadata": {
        "id": "MxBdyUUc5K7T",
        "outputId": "e9ebe0f9-b7ba-489a-9bc0-678a16587475",
        "colab": {
          "base_uri": "https://localhost:8080/"
        }
      },
      "source": [
        "AUTOTUNE = tf.data.experimental.AUTOTUNE\n",
        "\"\"\"code with tensorflow tf.data.dataset\"\"\"\n",
        "IMG_WIDTH=66\n",
        "IMG_HEIGHT=200\n",
        "\n",
        "\n",
        "#get label function returns label  \n",
        "def get_label(file_path):\n",
        "  #It takes out angle which is the second element in string \n",
        "  label_in_string = tf.strings.split(tf.strings.split(file_path, ',')[0],' ')[1]\n",
        "  label_in_degree = tf.strings.to_number(label_in_string)\n",
        "  pi_on_180 = 0.017453292519943295\n",
        "  #convert it to radian and return \n",
        "  return tf.math.multiply(label_in_degree,pi_on_180)\n",
        "\n",
        "#decode_img functions returns the resized image \n",
        "def decode_img(img):\n",
        "  # convert the compressed string to a 3D uint8 tensor\n",
        "  img = tf.image.decode_jpeg(img, channels=3)\n",
        "  # Use `convert_image_dtype` to convert to floats in the [0,1] range.\n",
        "  img = tf.image.convert_image_dtype(img, tf.float32)\n",
        "  # resize the image to the desired size.\n",
        "  return tf.image.resize(img, [IMG_WIDTH, IMG_HEIGHT])\n",
        "\n",
        "#process_path function returns image and label together\n",
        "def process_path(file_path):\n",
        "  label = get_label(file_path)\n",
        "  # load the raw data from the file as a string\n",
        "  img = tf.io.read_file(data_dir+'data/'+ tf.strings.split(file_path, ' ')[0])\n",
        "  img = decode_img(img)\n",
        "  return img, label\n",
        "\n",
        "# Set `num_parallel_calls` so multiple images are loaded/processed in parallel.\n",
        "labeled_ds = dataset.map(process_path,num_parallel_calls=AUTOTUNE)\n",
        "#Dataset.element_spec property allows us to inspect the type of each element component\n",
        "print(\"Tensor specification\",labeled_ds.element_spec)\n",
        "\n",
        "#print the shape and angle of 1st image in dataset\n",
        "for image, label in labeled_ds.take(1):\n",
        "  print(\"Image shape: \", image.numpy().shape)\n",
        "  print(\"Label: \", label.numpy())\n",
        "  \n",
        "#WE CAN SPLIT THE DATASET HERE INTO TRAIN VAL AND TEST OR DURING CALL FOR TRAINING  \n",
        "#split the TRAINING and TEST dataset in 80:20 ratio\n",
        "train_val = labeled_ds.take(int(TOTAL_SIZE_DATASET*0.8))\n",
        "test = labeled_ds.skip(int(TOTAL_SIZE_DATASET*0.8))\n",
        "\n",
        "#split further the TRAIN and VAL dataset in 80:20 ratio\n",
        "train = train_val.take(int(len(train_val)*0.8))\n",
        "val = train_val.skip(int(len(train_val)*0.8))\n",
        "\n",
        "print(\"Size of training set is {0}, Validation set is {1}, Test set is {2}\".format(len(train),len(val),len(test)))"
      ],
      "execution_count": 5,
      "outputs": [
        {
          "output_type": "stream",
          "text": [
            "Tensor specification (TensorSpec(shape=(66, 200, 3), dtype=tf.float32, name=None), TensorSpec(shape=(), dtype=tf.float32, name=None))\n",
            "Image shape:  (66, 200, 3)\n",
            "Label:  0.0\n",
            "Size of training set is 40848, Validation set is 10212, Test set is 12765\n"
          ],
          "name": "stdout"
        }
      ]
    },
    {
      "cell_type": "markdown",
      "metadata": {
        "id": "E3FkFItbClFI"
      },
      "source": [
        "**Dataset Exploration**\n",
        "However, upon analysing the steering angles captured across our datasets, we quickly realised we had a problem: the data is greatly imbalanced, with an overwhelming number of steering wheel data being neutral (i.e. 0). This means, that unless we take corrective measures, our model will be biased to driving straight."
      ]
    },
    {
      "cell_type": "markdown",
      "metadata": {
        "id": "NqNIM3iHThPU"
      },
      "source": [
        "Convert contents to tensorflow dataset"
      ]
    },
    {
      "cell_type": "code",
      "metadata": {
        "id": "AXDVaubQMXYQ",
        "outputId": "4bc54244-6df4-4ad4-a2da-308f59c888b7",
        "colab": {
          "base_uri": "https://localhost:8080/",
          "height": 316
        }
      },
      "source": [
        "labels_list= []\n",
        "for image, label in train.as_numpy_iterator():\n",
        "  labels_list.append(label)\n",
        "df = DataFrame(labels_list) \n",
        "DataFrame.hist(df,bins=10)"
      ],
      "execution_count": null,
      "outputs": [
        {
          "output_type": "execute_result",
          "data": {
            "text/plain": [
              "array([[<matplotlib.axes._subplots.AxesSubplot object at 0x7fed64dd6a90>]],\n",
              "      dtype=object)"
            ]
          },
          "metadata": {
            "tags": []
          },
          "execution_count": 8
        },
        {
          "output_type": "display_data",
          "data": {
            "image/png": "[encoded data removed]",
            "text/plain": [
              "<Figure size 432x288 with 1 Axes>"
            ]
          },
          "metadata": {
            "tags": [],
            "needs_background": "light"
          }
        }
      ]
    },
    {
      "cell_type": "markdown",
      "metadata": {
        "id": "lsee7bwCI1Wn"
      },
      "source": [
        "Most of the the dataset show the car driving with a neutral steering wheel angle so with this dataset our model would tend to drive itself in a straight line."
      ]
    },
    {
      "cell_type": "markdown",
      "metadata": {
        "id": "FZZ6xe5nWPWA"
      },
      "source": [
        "**Dataset Augmentation**\n",
        "\n",
        "Here I try to augment the training dataset with images which don't have nuetral steering angle.\n",
        "So goal is to get a balanced dataset."
      ]
    },
    {
      "cell_type": "code",
      "metadata": {
        "id": "GpxAUEmCI9YR"
      },
      "source": [
        "import cv2\n",
        "import numpy as np\n",
        "\n",
        "########## Image Manipulation Functions ##########\n",
        "\n",
        "def flip_image(img):\n",
        "    \"\"\"\n",
        "    Returns a horizontally flipped image\n",
        "    \"\"\"\n",
        "    return cv2.flip(img, 1)\n",
        "\n",
        "\n",
        "def change_image_brightness_rgb(img, s_low=0.2, s_high=0.75):\n",
        "    \"\"\"\n",
        "    Changes the image brightness by multiplying all RGB values by the same scalacar in [s_low, s_high).\n",
        "    Returns the brightness adjusted image in RGB format.\n",
        "    \"\"\"\n",
        "    img = img.astype(np.float32)\n",
        "    s = np.random.uniform(s_low, s_high)\n",
        "    img[:,:,:] *= s\n",
        "    np.clip(img, 0, 255)\n",
        "    return  img.astype(np.uint8)\n",
        "\n",
        "# Read more about it here: http://docs.opencv.org/3.0-beta/doc/py_tutorials/py_imgproc/py_geometric_transformations/py_geometric_transformations.html\n",
        "def translate_image(img, st_angle, low_x_range, high_x_range, low_y_range, high_y_range, delta_st_angle_per_px):\n",
        "    \"\"\"\n",
        "    Shifts the image right, left, up or down. \n",
        "    When performing a lateral shift, a delta proportional to the pixel shifts is added to the current steering angle \n",
        "    \"\"\"\n",
        "    rows, cols = (img.shape[0], img.shape[1])\n",
        "    translation_x = np.random.randint(low_x_range, high_x_range) \n",
        "    translation_y = np.random.randint(low_y_range, high_y_range) \n",
        "    \n",
        "    st_angle += translation_x * delta_st_angle_per_px\n",
        "\n",
        "    translation_matrix = np.float16([[1, 0, translation_x],[0, 1, translation_y]])\n",
        "    img = cv2.warpAffine(img, translation_matrix, (cols, rows))\n",
        "    \n",
        "    return img, st_angle\n",
        "\n",
        "\n",
        "\n",
        "########## Data Augmentation Function ##########\n",
        "\n",
        "def augment_image(img, st_angle, p=1.0):\n",
        "    \"\"\"\n",
        "    Augment a given image, by applying a series of transformations, with a probability p.\n",
        "    The steering angle may also be modified.\n",
        "    Returns the tuple (augmented_image, new_steering_angle)\n",
        "    \"\"\"\n",
        "    aug_img = img\n",
        "    \n",
        "    if np.random.random_sample() <= p: \n",
        "        # Horizontally flip image\n",
        "        aug_img = flip_image(aug_img)\n",
        "        st_angle = -st_angle\n",
        "     \n",
        "    if np.random.random_sample() <= p:\n",
        "        aug_img = change_image_brightness_rgb(aug_img)\n",
        "    \n",
        "\n",
        "    #if np.random.random_sample() <= p:\n",
        "        # Shift the image left/right, up/down and modify the steering angle accordingly\n",
        "        #aug_img, st_angle = translate_image(aug_img, st_angle, -60, 61, -20, 21, 0.35/100.0)\n",
        "    \n",
        "    # TODO In the future try adding slight rotations\n",
        "        \n",
        "    return aug_img, st_angle"
      ],
      "execution_count": 6,
      "outputs": []
    },
    {
      "cell_type": "code",
      "metadata": {
        "id": "im6o58BoDZaR"
      },
      "source": [
        "st_angle_threshold=0.05\n",
        "nuetral_angle_remove=0.1\n",
        "neutral_drop=0.5\n",
        "train_augmented = []\n",
        "for data in train.as_numpy_iterator():\n",
        "  #we want to drop some nuetral steering angles.\n",
        "  if abs(label) < nuetral_angle_remove and np.random.random_sample() < neutral_drop:\n",
        "    continue\n",
        "  train_augmented.append(data)  \n",
        "  image,label = data\n",
        "  if abs(label) < st_angle_threshold:\n",
        "    continue\n",
        "  image_aug,label_aug = augment_image(image, label, p = 0.5)  \n",
        "  data_aug= image_aug,label_aug\n",
        "  train_augmented.append(data_aug)"
      ],
      "execution_count": 7,
      "outputs": []
    },
    {
      "cell_type": "code",
      "metadata": {
        "id": "8Fu88Y51NGmb",
        "outputId": "390e3dc8-0c92-4b39-a050-3e8ed33bad77",
        "colab": {
          "base_uri": "https://localhost:8080/"
        }
      },
      "source": [
        "print(\"Training dataset size is changed from {} to {}\" .format(len(train),len(train_augmented)))"
      ],
      "execution_count": 8,
      "outputs": [
        {
          "output_type": "stream",
          "text": [
            "Training dataset size is changed from 40848 to 55707\n"
          ],
          "name": "stdout"
        }
      ]
    },
    {
      "cell_type": "code",
      "metadata": {
        "id": "B5PEhQR4Nqmh",
        "outputId": "e2adb11f-e035-4e25-ac71-6e2f79613fb8",
        "colab": {
          "base_uri": "https://localhost:8080/",
          "height": 316
        }
      },
      "source": [
        "labels_list_aug= []\n",
        "image_list_aug= []\n",
        "for image, label in train_augmented:\n",
        "  image_list_aug.append(image)\n",
        "  labels_list_aug.append(label)\n",
        "df_aug = DataFrame(labels_list_aug) \n",
        "DataFrame.hist(df_aug,bins=10)"
      ],
      "execution_count": 9,
      "outputs": [
        {
          "output_type": "execute_result",
          "data": {
            "text/plain": [
              "array([[<matplotlib.axes._subplots.AxesSubplot object at 0x7f165dd970f0>]],\n",
              "      dtype=object)"
            ]
          },
          "metadata": {
            "tags": []
          },
          "execution_count": 9
        },
        {
          "output_type": "display_data",
          "data": {
            "image/png": "[encoded data removed]",
            "text/plain": [
              "<Figure size 432x288 with 1 Axes>"
            ]
          },
          "metadata": {
            "tags": [],
            "needs_background": "light"
          }
        }
      ]
    },
    {
      "cell_type": "markdown",
      "metadata": {
        "id": "fvQipURlOAg2"
      },
      "source": [
        "Not able to load whole dataset in colab. So will try to train on part of the dataset."
      ]
    },
    {
      "cell_type": "code",
      "metadata": {
        "id": "_gbyl9yzVuQG"
      },
      "source": [
        "train_ds = tf.data.Dataset.from_tensor_slices((image_list_aug[:20000],labels_list_aug[:20000]))"
      ],
      "execution_count": 10,
      "outputs": []
    },
    {
      "cell_type": "markdown",
      "metadata": {
        "id": "EPZ4kXtTP4AB"
      },
      "source": [
        "Configure the dataset for performance\n",
        "Let's make sure to use buffered prefetching so we can yield data from disk without having I/O become blocking. These are two important methods you should use when loading data.\n",
        "\n",
        ".cache() keeps the images in memory after they're loaded off disk during the first epoch. This will ensure the dataset does not become a bottleneck while training your model. If your dataset is too large to fit into memory, you can also use this method to create a performant on-disk cache.\n",
        "\n",
        ".prefetch() overlaps data preprocessing and model execution while training.\n",
        "\n",
        ".repeat() can specify the number of times we want the dataset to be iterated. If no parameter is passed it will loop forever, usually is good to just loop forever and directly control the number of epochs with a standard loop.\n",
        "\n",
        ".shuffle() shuffles the dataset by default every epoch.\n",
        "Remember: shuffle the dataset is very important to avoid overfitting."
      ]
    },
    {
      "cell_type": "code",
      "metadata": {
        "id": "vwLVCaK5WHGj"
      },
      "source": [
        "#repeat and batch. Inspect a batch.\n",
        "EPOCHS = 30\n",
        "BATCH_SIZE = 64\n",
        "AUTOTUNE = tf.data.experimental.AUTOTUNE\n",
        "\n",
        "\n",
        "def show_batch(image_batch, label_batch):\n",
        "  plt.figure(figsize=(10,10))\n",
        "  for n in range(10):\n",
        "      ax = plt.subplot(5,2,n+1)\n",
        "      i=(n+n*20)%100\n",
        "      plt.imshow(image_batch[i])\n",
        "      plt.title(label_batch[i])\n",
        "      plt.axis('off')\n",
        "\n",
        "def tf_data_augmentation(image,label):\n",
        "  flipped = tf.image.flip_left_right(image)\n",
        "  label = tf.math.negative(label)\n",
        "  return flipped, label\n",
        "\n",
        "def prepare_for_training(ds, augment=False, shuffle=False, cache=True):\n",
        "  # This is a small dataset, only load it once, and keep it in memory.\n",
        "  # use `.cache(filename)` to cache preprocessing work for datasets that don't\n",
        "  # fit in memory.\n",
        "  if cache:\n",
        "    if isinstance(cache, str):\n",
        "      ds = ds.cache(cache)\n",
        "    else:\n",
        "      ds = ds.cache()\n",
        "  # Repeat forever\n",
        "    # Use data augmentation only on the training set\n",
        "  # if augment:\n",
        "  #   ds = ds.map(tf_data_augmentation, num_parallel_calls=AUTOTUNE)\n",
        "  #ds = ds.repeat()\n",
        "  ds = ds.batch(BATCH_SIZE)\n",
        "  if shuffle:\n",
        "    ds.shuffle(100)\n",
        "\n",
        "  # `prefetch` lets the dataset fetch batches in the background while the model\n",
        "  # is training.\n",
        "  ds = ds.prefetch(buffer_size=AUTOTUNE)\n",
        "\n",
        "  return ds\n",
        "\n",
        "print(\"A Batch of Training Dataset\")\n",
        "#train_ds = tf.data.Dataset.from_tensor_slices(train_augmented)\n",
        "train_ds = prepare_for_training(train_ds, shuffle = True, cache = True)\n",
        "train_images, train_labels = next(iter(train_ds))\n",
        "show_batch(train_images.numpy(), train_labels.numpy())\n",
        "\n",
        "val_ds = prepare_for_training(val, shuffle = True)\n",
        "\n",
        "test_ds = prepare_for_training(test)\n",
        "\n",
        "\n",
        "\n",
        "\n",
        "\n"
      ],
      "execution_count": null,
      "outputs": []
    },
    {
      "cell_type": "code",
      "metadata": {
        "id": "gZuiUhpTZJP6"
      },
      "source": [
        "import time\n",
        "default_timeit_steps = 5\n",
        "\n",
        "def timeit(ds, steps=default_timeit_steps):\n",
        "  start = time.time()\n",
        "  it = iter(ds)\n",
        "  for i in range(steps):\n",
        "    batch = next(it)\n",
        "    if i%10 == 0:\n",
        "      print('.',end='')\n",
        "  print()\n",
        "  end = time.time()\n",
        "\n",
        "  duration = end-start\n",
        "  print(\"{} batches: {} s\".format(steps, duration))\n",
        "  print(\"{:0.5f} Images/s\".format(BATCH_SIZE*steps/duration))"
      ],
      "execution_count": null,
      "outputs": []
    },
    {
      "cell_type": "code",
      "metadata": {
        "id": "bcvx_2pzZ5Xu",
        "outputId": "d44f5bff-0e82-4040-dc56-a7b7eecb84a7",
        "colab": {
          "base_uri": "https://localhost:8080/",
          "height": 67
        }
      },
      "source": [
        "timeit(train_ds)"
      ],
      "execution_count": null,
      "outputs": [
        {
          "output_type": "stream",
          "text": [
            ".\n",
            "5 batches: 0.9457499980926514 s\n",
            "528.68094 Images/s\n"
          ],
          "name": "stdout"
        }
      ]
    },
    {
      "cell_type": "code",
      "metadata": {
        "id": "I-oymBXsMJtf",
        "outputId": "22c90f0f-da07-4b0d-c1bc-53f075e19881",
        "colab": {
          "base_uri": "https://localhost:8080/",
          "height": 823
        }
      },
      "source": [
        "from tensorflow.keras.models import Sequential\n",
        "from tensorflow.keras.layers import Dense, Conv2D, Flatten, Dropout, BatchNormalization\n",
        "\n",
        "model = Sequential([\n",
        "    # We have a series of 3 5x5 convolutional layers with a stride of 2x2\n",
        "    Conv2D(filters=24,kernel_size = 5,strides=(2, 2),activation='relu',input_shape=(IMG_WIDTH, IMG_HEIGHT, 3)),\n",
        "    BatchNormalization(),\n",
        "\n",
        "    Conv2D(filters=36,kernel_size = 5,strides=(2, 2),activation='relu'),\n",
        "    BatchNormalization(),\n",
        "   \n",
        "    Conv2D(filters=48,kernel_size = 5,strides=(2, 2),activation='relu'),\n",
        "    BatchNormalization(),\n",
        "\n",
        "    \n",
        "    # This is then followed by 2 3x3 convolutional layers with a 1x1 stride\n",
        "    \n",
        "    Conv2D(filters=64,kernel_size = 3,strides=(1, 1),activation='relu'),\n",
        "    BatchNormalization(),\n",
        "    \n",
        "    Conv2D(filters=64,kernel_size = 3,strides=(1, 1),activation='relu'),\n",
        "    BatchNormalization(),\n",
        "    \n",
        "    # Flattening the output of last convolutional layer before entering fully connected phase\n",
        "    Flatten(),\n",
        "    \n",
        "    # Fully connected layers\n",
        "    Dense(1164, activation='relu'),\n",
        "    BatchNormalization(),\n",
        "    \n",
        "    Dense(200, activation='relu'),\n",
        "    BatchNormalization(),\n",
        "    \n",
        "    Dense(50, activation='relu'),\n",
        "    BatchNormalization(),\n",
        "    \n",
        "    Dense(10, activation='relu'),\n",
        "    BatchNormalization(),\n",
        "   \n",
        "    # Output layer\n",
        "    Dense(1)\n",
        "    \n",
        "])    \n",
        "\n",
        "   \n",
        "    \n",
        "model.compile(optimizer=tf.keras.optimizers.Adam(0.001),\n",
        "              loss='mse',\n",
        "              metrics=['mae', 'mse'])\n",
        "    \n",
        "model.summary()"
      ],
      "execution_count": null,
      "outputs": [
        {
          "output_type": "stream",
          "text": [
            "Model: \"sequential\"\n",
            "_________________________________________________________________\n",
            "Layer (type)                 Output Shape              Param #   \n",
            "=================================================================\n",
            "conv2d (Conv2D)              (None, 31, 98, 24)        1824      \n",
            "_________________________________________________________________\n",
            "batch_normalization (BatchNo (None, 31, 98, 24)        96        \n",
            "_________________________________________________________________\n",
            "conv2d_1 (Conv2D)            (None, 14, 47, 36)        21636     \n",
            "_________________________________________________________________\n",
            "batch_normalization_1 (Batch (None, 14, 47, 36)        144       \n",
            "_________________________________________________________________\n",
            "conv2d_2 (Conv2D)            (None, 5, 22, 48)         43248     \n",
            "_________________________________________________________________\n",
            "batch_normalization_2 (Batch (None, 5, 22, 48)         192       \n",
            "_________________________________________________________________\n",
            "conv2d_3 (Conv2D)            (None, 3, 20, 64)         27712     \n",
            "_________________________________________________________________\n",
            "batch_normalization_3 (Batch (None, 3, 20, 64)         256       \n",
            "_________________________________________________________________\n",
            "conv2d_4 (Conv2D)            (None, 1, 18, 64)         36928     \n",
            "_________________________________________________________________\n",
            "batch_normalization_4 (Batch (None, 1, 18, 64)         256       \n",
            "_________________________________________________________________\n",
            "flatten (Flatten)            (None, 1152)              0         \n",
            "_________________________________________________________________\n",
            "dense (Dense)                (None, 1164)              1342092   \n",
            "_________________________________________________________________\n",
            "batch_normalization_5 (Batch (None, 1164)              4656      \n",
            "_________________________________________________________________\n",
            "dense_1 (Dense)              (None, 200)               233000    \n",
            "_________________________________________________________________\n",
            "batch_normalization_6 (Batch (None, 200)               800       \n",
            "_________________________________________________________________\n",
            "dense_2 (Dense)              (None, 50)                10050     \n",
            "_________________________________________________________________\n",
            "batch_normalization_7 (Batch (None, 50)                200       \n",
            "_________________________________________________________________\n",
            "dense_3 (Dense)              (None, 10)                510       \n",
            "_________________________________________________________________\n",
            "batch_normalization_8 (Batch (None, 10)                40        \n",
            "_________________________________________________________________\n",
            "dense_4 (Dense)              (None, 1)                 11        \n",
            "=================================================================\n",
            "Total params: 1,723,651\n",
            "Trainable params: 1,720,331\n",
            "Non-trainable params: 3,320\n",
            "_________________________________________________________________\n"
          ],
          "name": "stdout"
        }
      ]
    },
    {
      "cell_type": "code",
      "metadata": {
        "id": "7FFh9VG3_A6B",
        "outputId": "9b77c76d-ee36-4f12-faf9-2db02f24e789",
        "colab": {
          "base_uri": "https://localhost:8080/",
          "height": 54
        }
      },
      "source": [
        "import os\n",
        "# Include the epoch in the file name (uses `str.format`)\n",
        "checkpoint_path = \"/content/training_1/cp-{epoch:04d}.ckpt\"\n",
        "checkpoint_dir = os.path.dirname(checkpoint_path)\n",
        "\n",
        "# Create a callback that saves the model's weights every 5 epochs\n",
        "cp_callback = tf.keras.callbacks.ModelCheckpoint(\n",
        "    filepath=checkpoint_path,\n",
        "    save_best_only=True, \n",
        "    verbose=1, \n",
        "    save_weights_only=True,\n",
        "    period=10)\n",
        "\n",
        "#check this is not required\n",
        "# # Save the weights using the `checkpoint_path` format\n",
        "# model.save_weights(checkpoint_path.format(epoch=0))\n",
        "\n"
      ],
      "execution_count": null,
      "outputs": [
        {
          "output_type": "stream",
          "text": [
            "WARNING:tensorflow:`period` argument is deprecated. Please use `save_freq` to specify the frequency in number of samples seen.\n"
          ],
          "name": "stdout"
        }
      ]
    },
    {
      "cell_type": "code",
      "metadata": {
        "id": "SpVcxJbsfuEf",
        "outputId": "80987146-1291-44f0-c8fd-aa4594f4da70",
        "colab": {
          "base_uri": "https://localhost:8080/",
          "height": 1000
        }
      },
      "source": [
        "history = model.fit(train_ds,\n",
        "                    steps_per_epoch = TOTAL_SIZE_DATASET*0.8 // BATCH_SIZE,\n",
        "                    epochs=EPOCHS,\n",
        "                    verbose=1,\n",
        "                    validation_data = test_ds,\n",
        "                    validation_steps = TOTAL_SIZE_DATASET*0.2 // BATCH_SIZE,\n",
        "                    callbacks=[cp_callback],\n",
        "                    shuffle=False)"
      ],
      "execution_count": null,
      "outputs": [
        {
          "output_type": "stream",
          "text": [
            "Train for 510.0 steps, validate for 127.0 steps\n",
            "Epoch 1/30\n",
            "510/510 [==============================] - 276s 541ms/step - loss: 0.3566 - mae: 0.3679 - mse: 0.3566 - val_loss: 0.1394 - val_mae: 0.2204 - val_mse: 0.1394\n",
            "Epoch 2/30\n",
            "510/510 [==============================] - 13s 25ms/step - loss: 0.2561 - mae: 0.2695 - mse: 0.2561 - val_loss: 0.1202 - val_mae: 0.1896 - val_mse: 0.1202\n",
            "Epoch 3/30\n",
            "510/510 [==============================] - 13s 25ms/step - loss: 0.2515 - mae: 0.2636 - mse: 0.2515 - val_loss: 0.1122 - val_mae: 0.1771 - val_mse: 0.1122\n",
            "Epoch 4/30\n",
            "510/510 [==============================] - 13s 25ms/step - loss: 0.2496 - mae: 0.2583 - mse: 0.2496 - val_loss: 0.1058 - val_mae: 0.1728 - val_mse: 0.1058\n",
            "Epoch 5/30\n",
            "510/510 [==============================] - 13s 25ms/step - loss: 0.2413 - mae: 0.2563 - mse: 0.2413 - val_loss: 0.1130 - val_mae: 0.1715 - val_mse: 0.1130\n",
            "Epoch 6/30\n",
            "510/510 [==============================] - 13s 25ms/step - loss: 0.2441 - mae: 0.2567 - mse: 0.2441 - val_loss: 0.1010 - val_mae: 0.1534 - val_mse: 0.1010\n",
            "Epoch 7/30\n",
            "510/510 [==============================] - 13s 25ms/step - loss: 0.2478 - mae: 0.2556 - mse: 0.2478 - val_loss: 0.1233 - val_mae: 0.1864 - val_mse: 0.1233\n",
            "Epoch 8/30\n",
            "510/510 [==============================] - 13s 25ms/step - loss: 0.2470 - mae: 0.2567 - mse: 0.2470 - val_loss: 0.1046 - val_mae: 0.1544 - val_mse: 0.1046\n",
            "Epoch 9/30\n",
            "510/510 [==============================] - 13s 25ms/step - loss: 0.2486 - mae: 0.2541 - mse: 0.2486 - val_loss: 0.0999 - val_mae: 0.1545 - val_mse: 0.0999\n",
            "Epoch 10/30\n",
            "507/510 [============================>.] - ETA: 0s - loss: 0.2486 - mae: 0.2548 - mse: 0.2486\n",
            "Epoch 00010: val_loss improved from inf to 0.09231, saving model to /content/training_1/cp-0010.ckpt\n",
            "510/510 [==============================] - 13s 25ms/step - loss: 0.2472 - mae: 0.2540 - mse: 0.2472 - val_loss: 0.0923 - val_mae: 0.1399 - val_mse: 0.0923\n",
            "Epoch 11/30\n",
            "510/510 [==============================] - 13s 25ms/step - loss: 0.2481 - mae: 0.2549 - mse: 0.2481 - val_loss: 0.0947 - val_mae: 0.1482 - val_mse: 0.0947\n",
            "Epoch 12/30\n",
            "510/510 [==============================] - 12s 24ms/step - loss: 0.2492 - mae: 0.2522 - mse: 0.2492 - val_loss: 0.0898 - val_mae: 0.1349 - val_mse: 0.0898\n",
            "Epoch 13/30\n",
            "510/510 [==============================] - 13s 25ms/step - loss: 0.2487 - mae: 0.2549 - mse: 0.2487 - val_loss: 0.0889 - val_mae: 0.1364 - val_mse: 0.0889\n",
            "Epoch 14/30\n",
            "510/510 [==============================] - 13s 25ms/step - loss: 0.2491 - mae: 0.2519 - mse: 0.2491 - val_loss: 0.0945 - val_mae: 0.1512 - val_mse: 0.0945\n",
            "Epoch 15/30\n",
            "510/510 [==============================] - 13s 25ms/step - loss: 0.2483 - mae: 0.2520 - mse: 0.2483 - val_loss: 0.0900 - val_mae: 0.1378 - val_mse: 0.0900\n",
            "Epoch 16/30\n",
            "510/510 [==============================] - 12s 24ms/step - loss: 0.2478 - mae: 0.2535 - mse: 0.2478 - val_loss: 0.0855 - val_mae: 0.1259 - val_mse: 0.0855\n",
            "Epoch 17/30\n",
            "510/510 [==============================] - 12s 24ms/step - loss: 0.2490 - mae: 0.2508 - mse: 0.2490 - val_loss: 0.0925 - val_mae: 0.1386 - val_mse: 0.0925\n",
            "Epoch 18/30\n",
            "510/510 [==============================] - 13s 25ms/step - loss: 0.2467 - mae: 0.2535 - mse: 0.2467 - val_loss: 0.0941 - val_mae: 0.1424 - val_mse: 0.0941\n",
            "Epoch 19/30\n",
            "510/510 [==============================] - 13s 25ms/step - loss: 0.2498 - mae: 0.2495 - mse: 0.2498 - val_loss: 0.0921 - val_mae: 0.1410 - val_mse: 0.0921\n",
            "Epoch 20/30\n",
            "508/510 [============================>.] - ETA: 0s - loss: 0.2495 - mae: 0.2496 - mse: 0.2495\n",
            "Epoch 00020: val_loss improved from 0.09231 to 0.08868, saving model to /content/training_1/cp-0020.ckpt\n",
            "510/510 [==============================] - 13s 25ms/step - loss: 0.2485 - mae: 0.2490 - mse: 0.2485 - val_loss: 0.0887 - val_mae: 0.1389 - val_mse: 0.0887\n",
            "Epoch 21/30\n",
            "510/510 [==============================] - 12s 24ms/step - loss: 0.2488 - mae: 0.2496 - mse: 0.2488 - val_loss: 0.0894 - val_mae: 0.1353 - val_mse: 0.0894\n",
            "Epoch 22/30\n",
            "510/510 [==============================] - 12s 24ms/step - loss: 0.2490 - mae: 0.2492 - mse: 0.2490 - val_loss: 0.0912 - val_mae: 0.1401 - val_mse: 0.0912\n",
            "Epoch 23/30\n",
            "510/510 [==============================] - 12s 24ms/step - loss: 0.2487 - mae: 0.2504 - mse: 0.2487 - val_loss: 0.0907 - val_mae: 0.1366 - val_mse: 0.0907\n",
            "Epoch 24/30\n",
            "510/510 [==============================] - 12s 24ms/step - loss: 0.2482 - mae: 0.2499 - mse: 0.2482 - val_loss: 0.0869 - val_mae: 0.1272 - val_mse: 0.0869\n",
            "Epoch 25/30\n",
            "510/510 [==============================] - 13s 25ms/step - loss: 0.2474 - mae: 0.2511 - mse: 0.2474 - val_loss: 0.0978 - val_mae: 0.1481 - val_mse: 0.0978\n",
            "Epoch 26/30\n",
            "510/510 [==============================] - 13s 25ms/step - loss: 0.2484 - mae: 0.2497 - mse: 0.2484 - val_loss: 0.0905 - val_mae: 0.1387 - val_mse: 0.0905\n",
            "Epoch 27/30\n",
            "510/510 [==============================] - 12s 24ms/step - loss: 0.2490 - mae: 0.2486 - mse: 0.2490 - val_loss: 0.0887 - val_mae: 0.1329 - val_mse: 0.0887\n",
            "Epoch 28/30\n",
            "510/510 [==============================] - 12s 24ms/step - loss: 0.2486 - mae: 0.2488 - mse: 0.2486 - val_loss: 0.0925 - val_mae: 0.1411 - val_mse: 0.0925\n",
            "Epoch 29/30\n",
            "510/510 [==============================] - 13s 25ms/step - loss: 0.2484 - mae: 0.2492 - mse: 0.2484 - val_loss: 0.0916 - val_mae: 0.1439 - val_mse: 0.0916\n",
            "Epoch 30/30\n",
            "507/510 [============================>.] - ETA: 0s - loss: 0.2496 - mae: 0.2488 - mse: 0.2496\n",
            "Epoch 00030: val_loss did not improve from 0.08868\n",
            "510/510 [==============================] - 13s 25ms/step - loss: 0.2483 - mae: 0.2482 - mse: 0.2483 - val_loss: 0.0916 - val_mae: 0.1411 - val_mse: 0.0916\n"
          ],
          "name": "stdout"
        }
      ]
    },
    {
      "cell_type": "code",
      "metadata": {
        "id": "OnI09WbV5vQr",
        "outputId": "9ebf11ab-fa68-4415-c67c-dee23c945710",
        "colab": {
          "base_uri": "https://localhost:8080/",
          "height": 50
        }
      },
      "source": [
        "model.load_weights(tf.train.latest_checkpoint(checkpoint_dir))\n",
        "eval_loss, eval_mae, eval_mse = model.evaluate(test_ds, verbose=2, steps = (TOTAL_SIZE_DATASET*0.2) // BATCH_SIZE)\n",
        "\n",
        "print('Eval loss: {}, Eval Accuracy: {}'.format(eval_loss, eval_mae))"
      ],
      "execution_count": null,
      "outputs": [
        {
          "output_type": "stream",
          "text": [
            "127/127 - 1s - loss: 0.0887 - mae: 0.1389 - mse: 0.0887\n",
            "Eval loss: 0.0886788268362293, Eval Accuracy: 0.1389133781194687\n"
          ],
          "name": "stdout"
        }
      ]
    },
    {
      "cell_type": "code",
      "metadata": {
        "id": "WPa-DDTwNNxT",
        "outputId": "78ba69a1-1a8f-483b-c40b-a786ce52aee9",
        "colab": {
          "base_uri": "https://localhost:8080/",
          "height": 34
        }
      },
      "source": [
        "path = \"/content/model\"\n",
        "model.save(path, save_format='tf')"
      ],
      "execution_count": null,
      "outputs": [
        {
          "output_type": "stream",
          "text": [
            "INFO:tensorflow:Assets written to: /content/model/assets\n"
          ],
          "name": "stdout"
        }
      ]
    },
    {
      "cell_type": "markdown",
      "metadata": {
        "id": "dddKAtNRvspm"
      },
      "source": [
        "Let us visualise the results after training the network."
      ]
    },
    {
      "cell_type": "code",
      "metadata": {
        "id": "PDYUgm3uogtD",
        "outputId": "6b6f4ce8-6a62-4c40-8e17-cd4de91156e4",
        "colab": {
          "base_uri": "https://localhost:8080/",
          "height": 499
        }
      },
      "source": [
        "# epochs=10\n",
        "mae = history.history['mae']\n",
        "val_mae = history.history['val_mae']\n",
        "\n",
        "loss = history.history['loss']\n",
        "val_loss = history.history['val_loss']\n",
        "\n",
        "epochs_range = range(EPOCHS)\n",
        "\n",
        "plt.figure(figsize=(8, 8))\n",
        "plt.subplot(1, 2, 1)\n",
        "plt.plot(epochs_range, mae, label='Training MAE')\n",
        "plt.plot(epochs_range, val_mae, label='Validation MAE')\n",
        "plt.legend(loc='upper right')\n",
        "plt.title('Training and Validation Mean Absolute Error')\n",
        "\n",
        "plt.subplot(1, 2, 2)\n",
        "plt.plot(epochs_range, loss, label='Training Loss')\n",
        "plt.plot(epochs_range, val_loss, label='Validation Loss')\n",
        "plt.legend(loc='upper right')\n",
        "plt.title('Training and Validation Mean Square Error')\n",
        "plt.show()"
      ],
      "execution_count": null,
      "outputs": [
        {
          "output_type": "display_data",
          "data": {
            "image/png": "[encoded data removed]",
            "text/plain": [
              "<Figure size 576x576 with 2 Axes>"
            ]
          },
          "metadata": {
            "tags": []
          }
        }
      ]
    },
    {
      "cell_type": "code",
      "metadata": {
        "id": "0rIwBGNWRCcy"
      },
      "source": [
        "!zip -r /content/model.zip /content/model"
      ],
      "execution_count": null,
      "outputs": []
    },
    {
      "cell_type": "code",
      "metadata": {
        "id": "O1HgkdSlRe7c"
      },
      "source": [
        "from google.colab import files\n",
        "files.download(\"/content/model.zip\")"
      ],
      "execution_count": null,
      "outputs": []
    }
  ]
}